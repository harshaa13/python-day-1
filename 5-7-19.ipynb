{
 "cells": [
  {
   "cell_type": "markdown",
   "metadata": {},
   "source": [
    "# Markdown Basics\n",
    "## Markdown Basics\n",
    "### Markdown Basics\n",
    "#### Markdown Basics\n",
    "\n",
    "* **point1**\n",
    "* *point2*\n",
    "* ***point3***\n",
    "\n",
    "* normal text\n",
    "* sublist 1\n",
    "* sublist 2\n",
    "\n",
    "> 1.point1\n",
    "> 2.point2\n",
    "\n",
    "* []option1\n",
    "* []option2\n",
    "\n",
    "* google site -- [1] http://www.google.com\n",
    "* msn site -- [2] http://www.msn.com"
   ]
  },
  {
   "cell_type": "markdown",
   "metadata": {},
   "source": [
    "### Python Basics\n",
    "* Python version 3.7\n",
    "- Functional Programming\n",
    "- Object Oriented Programming\n",
    "- Scripting Programming"
   ]
  },
  {
   "cell_type": "code",
   "execution_count": 2,
   "metadata": {},
   "outputs": [
    {
     "name": "stdout",
     "output_type": "stream",
     "text": [
      "Hello,Gitam\n"
     ]
    }
   ],
   "source": [
    "print(\"Hello,Gitam\")"
   ]
  },
  {
   "cell_type": "code",
   "execution_count": 3,
   "metadata": {},
   "outputs": [
    {
     "name": "stdout",
     "output_type": "stream",
     "text": [
      "Hello,Gitam\n",
      "Hyderabad\n"
     ]
    }
   ],
   "source": [
    "print(\"Hello,Gitam\")\n",
    "print(\"Hyderabad\")"
   ]
  },
  {
   "cell_type": "code",
   "execution_count": 4,
   "metadata": {},
   "outputs": [
    {
     "name": "stdout",
     "output_type": "stream",
     "text": [
      "Hello, Gitam ||| Hyderabad |||Python Programming\n"
     ]
    }
   ],
   "source": [
    "print(\"Hello, Gitam\" , \"|||\" , end=\" \")\n",
    "print(\"Hyderabad\" , \"|||\" , end=\"\")\n",
    "print(\"Python Programming\")\n"
   ]
  },
  {
   "cell_type": "code",
   "execution_count": 5,
   "metadata": {},
   "outputs": [
    {
     "name": "stdout",
     "output_type": "stream",
     "text": [
      "100\n",
      "20 20 20\n",
      "111 222 333\n"
     ]
    }
   ],
   "source": [
    "n1=100 # single variable assignment\n",
    "a=b=c=20 # multi cariable assignment of same value\n",
    "a1,b1,c1=111,222,333 # multi variable assignment of different value\n",
    "print(n1)\n",
    "print(a,b,c)\n",
    "print(a1,b1,c1)\n"
   ]
  },
  {
   "cell_type": "markdown",
   "metadata": {},
   "source": [
    "### Datatypes and Conversions\n",
    "* int\n",
    "* float\n",
    "* string\n"
   ]
  },
  {
   "cell_type": "code",
   "execution_count": 7,
   "metadata": {},
   "outputs": [
    {
     "name": "stdout",
     "output_type": "stream",
     "text": [
      "100 python p 10.2\n",
      "<class 'int'> <class 'str'> <class 'str'> <class 'float'>\n"
     ]
    }
   ],
   "source": [
    "a=100\n",
    "s1=\"python\"\n",
    "s2=\"p\"\n",
    "f1=10.2\n",
    "print(a,s1,s2,f1)\n",
    "print(type(a),type(s1),type(s2),type(f1))\n",
    "\n"
   ]
  },
  {
   "cell_type": "code",
   "execution_count": 1,
   "metadata": {},
   "outputs": [
    {
     "name": "stdout",
     "output_type": "stream",
     "text": [
      "<class 'int'>\n",
      "<class 'int'>\n",
      "<class 'int'>\n",
      "<class 'float'>\n"
     ]
    }
   ],
   "source": [
    "s1=100\n",
    "print(type(s1))\n",
    "a=int(s1)\n",
    "print(type(a))\n",
    "f=1.5\n",
    "a1=int(f)\n",
    "print(type(a1))\n",
    "print(type(f))\n",
    "\n"
   ]
  },
  {
   "cell_type": "code",
   "execution_count": 2,
   "metadata": {},
   "outputs": [
    {
     "name": "stdin",
     "output_type": "stream",
     "text": [
      "enter your name Harsha\n"
     ]
    },
    {
     "name": "stdout",
     "output_type": "stream",
     "text": [
      "Harsha\n",
      "<class 'str'>\n"
     ]
    }
   ],
   "source": [
    "s1=input(\"enter your name\")\n",
    "print(s1)\n",
    "print(type(s1))\n"
   ]
  },
  {
   "cell_type": "code",
   "execution_count": 3,
   "metadata": {},
   "outputs": [
    {
     "name": "stdin",
     "output_type": "stream",
     "text": [
      "enter a number 13\n"
     ]
    },
    {
     "name": "stdout",
     "output_type": "stream",
     "text": [
      "13 <class 'int'>\n"
     ]
    }
   ],
   "source": [
    "# want a number as an input\n",
    "n1=int(input(\"enter a number\"))\n",
    "print(n1,type(n1))"
   ]
  },
  {
   "cell_type": "markdown",
   "metadata": {},
   "source": [
    "## operators\n",
    "* operator is a symbol used to perform a specific kind of operation\n",
    "### Arithmetic operators\n",
    "- +\n",
    "- -\n",
    "- *\n",
    "- /\n",
    "- %\n",
    "- //\n",
    "- **\n"
   ]
  },
  {
   "cell_type": "code",
   "execution_count": 5,
   "metadata": {},
   "outputs": [
    {
     "name": "stdout",
     "output_type": "stream",
     "text": [
      "1244\n",
      "1224\n",
      "12340\n",
      "123.4\n",
      "4\n",
      "123\n",
      "8187505353567209228244052427776\n"
     ]
    }
   ],
   "source": [
    "n1=1234\n",
    "print(n1+10)\n",
    "print(n1-10)\n",
    "print(n1*10)\n",
    "print(n1/10)\n",
    "print(n1%10)\n",
    "print(n1//10)\n",
    "print(n1**10)"
   ]
  },
  {
   "cell_type": "markdown",
   "metadata": {},
   "source": [
    "## Precedence of the arithmetic operators\n",
    "\n",
    "* Paranthesis\n",
    "* Power\n",
    "* Multiplication\n",
    "* Addition\n",
    "\n",
    "## left to right"
   ]
  },
  {
   "cell_type": "code",
   "execution_count": 6,
   "metadata": {},
   "outputs": [
    {
     "name": "stdout",
     "output_type": "stream",
     "text": [
      "8.0\n"
     ]
    }
   ],
   "source": [
    "x=1+2 ** 3 / 4 + 5\n",
    "print(x)\n"
   ]
  },
  {
   "cell_type": "code",
   "execution_count": 8,
   "metadata": {},
   "outputs": [
    {
     "name": "stdout",
     "output_type": "stream",
     "text": [
      "11.0\n"
     ]
    }
   ],
   "source": [
    "x=1+2**3/4*5\n",
    "print(x)"
   ]
  },
  {
   "cell_type": "markdown",
   "metadata": {},
   "source": [
    "## Relational Operators\n",
    "- =\n",
    "- !=\n",
    "- greater(>)\n",
    "- less than(<)\n",
    "- less than or equal to(<=)\n",
    "- greater than or equaal to(>=)\n"
   ]
  },
  {
   "cell_type": "markdown",
   "metadata": {},
   "source": [
    "## Logical operators\n",
    "Used to combine more than one single condition\n",
    "- And\n",
    "- Or\n",
    "- Not\n",
    "i=100a1=(i>15)and(i<800)a2=(i>15)and(i>800)print(a1)print(a2)\n",
    "\n",
    "True\n",
    "\n",
    "False"
   ]
  },
  {
   "cell_type": "markdown",
   "metadata": {},
   "source": [
    "## Control flow statements\n",
    "- Conditional statements\n",
    "- looping statements"
   ]
  },
  {
   "cell_type": "markdown",
   "metadata": {},
   "source": [
    "## Syntax\n",
    "## If-Else statements\n",
    "if boolean_condition statements else:statements"
   ]
  },
  {
   "cell_type": "markdown",
   "metadata": {},
   "source": [
    "# to check given number is even or odd"
   ]
  },
  {
   "cell_type": "code",
   "execution_count": 15,
   "metadata": {},
   "outputs": [
    {
     "name": "stdin",
     "output_type": "stream",
     "text": [
      "Enter a number 13\n"
     ]
    },
    {
     "name": "stdout",
     "output_type": "stream",
     "text": [
      "odd\n"
     ]
    }
   ],
   "source": [
    "n=int(input(\"Enter a number\"))\n",
    "if n%2==0:\n",
    "    print(\"even\")\n",
    "else:\n",
    "    print(\"odd\")"
   ]
  },
  {
   "cell_type": "code",
   "execution_count": 20,
   "metadata": {},
   "outputs": [
    {
     "name": "stdin",
     "output_type": "stream",
     "text": [
      "Enter a number 15\n"
     ]
    },
    {
     "name": "stdout",
     "output_type": "stream",
     "text": [
      "yes\n"
     ]
    }
   ],
   "source": [
    "n=int(input(\"Enter a number\"))\n",
    "if n%3==0 and n%5==0:\n",
    "    print(\"yes\")\n",
    "else:\n",
    "    print(\"no\")\n"
   ]
  }
 ],
 "metadata": {
  "kernelspec": {
   "display_name": "Python 3",
   "language": "python",
   "name": "python3"
  },
  "language_info": {
   "codemirror_mode": {
    "name": "ipython",
    "version": 3
   },
   "file_extension": ".py",
   "mimetype": "text/x-python",
   "name": "python",
   "nbconvert_exporter": "python",
   "pygments_lexer": "ipython3",
   "version": "3.7.3"
  }
 },
 "nbformat": 4,
 "nbformat_minor": 2
}
